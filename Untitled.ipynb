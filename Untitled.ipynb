{
 "cells": [
  {
   "cell_type": "code",
   "execution_count": 9,
   "metadata": {},
   "outputs": [
    {
     "name": "stdout",
     "output_type": "stream",
     "text": [
      "<class 'bytes'>\n",
      "<class 'str'>\n"
     ]
    }
   ],
   "source": [
    "import pickle\n",
    "import struct\n",
    "from tensorflow.core.example import example_pb2\n",
    "\n",
    "with open('data/data','rb') as f:\n",
    "    byte = f.read(8)\n",
    "    str_len = struct.unpack('q',byte)[0]\n",
    "    example_str = struct.unpack(\"%ds\"%str_len,f.read(str_len))[0]\n",
    "\n",
    "ex = example_pb2.Example.FromString(example_str)\n",
    "article = ex.features.feature['article'].bytes_list.value[0]\n",
    "print(type(article))\n",
    "print(type(article.decode('latin-1')))"
   ]
  },
  {
   "cell_type": "code",
   "execution_count": 10,
   "metadata": {},
   "outputs": [
    {
     "data": {
      "text/plain": [
       "features {\n",
       "  feature {\n",
       "    key: \"abstract\"\n",
       "    value {\n",
       "      bytes_list {\n",
       "        value: \"<d> <p> <s> sri lanka closes schools as war escalates . </s> </p> </d>\"\n",
       "      }\n",
       "    }\n",
       "  }\n",
       "  feature {\n",
       "    key: \"article\"\n",
       "    value {\n",
       "      bytes_list {\n",
       "        value: \"<d> <p> <s> the sri lankan government on wednesday announced the closure of government schools with immediate effect as a military campaign against tamil separatists escalated in the north of the country . </s> <s> the cabinet wednesday decided to advance the december holidays by one month because of a threat from the liberation tigers of tamil eelam -lrb- ltte -rrb- against school children , a government official said . </s> <s> `` there are intelligence reports that the tigers may try to kill a lot of children to provoke a backlash against tamils in colombo . </s> <s> `` if that happens , troops will have to be withdrawn from the north to maintain law and order here , \\'\\' a police official said . </s> <s> he said education minister richard pathirana visited several government schools wednesday before the closure decision was taken . </s> <s> the government will make alternate arrangements to hold end of term examinations , officials said . </s> <s> earlier wednesday , president chandrika kumaratunga said the ltte may step up their attacks in the capital to seek revenge for the ongoing military offensive which she described as the biggest ever drive to take the tiger town of jaffna . . </s> </p> </d>\"\n",
       "      }\n",
       "    }\n",
       "  }\n",
       "  feature {\n",
       "    key: \"publisher\"\n",
       "    value {\n",
       "      bytes_list {\n",
       "        value: \"AFP\"\n",
       "      }\n",
       "    }\n",
       "  }\n",
       "}"
      ]
     },
     "execution_count": 10,
     "metadata": {},
     "output_type": "execute_result"
    }
   ],
   "source": [
    "ex"
   ]
  },
  {
   "cell_type": "code",
   "execution_count": 11,
   "metadata": {},
   "outputs": [
    {
     "data": {
      "text/plain": [
       "\"<d> <p> <s> the sri lankan government on wednesday announced the closure of government schools with immediate effect as a military campaign against tamil separatists escalated in the north of the country . </s> <s> the cabinet wednesday decided to advance the december holidays by one month because of a threat from the liberation tigers of tamil eelam -lrb- ltte -rrb- against school children , a government official said . </s> <s> `` there are intelligence reports that the tigers may try to kill a lot of children to provoke a backlash against tamils in colombo . </s> <s> `` if that happens , troops will have to be withdrawn from the north to maintain law and order here , '' a police official said . </s> <s> he said education minister richard pathirana visited several government schools wednesday before the closure decision was taken . </s> <s> the government will make alternate arrangements to hold end of term examinations , officials said . </s> <s> earlier wednesday , president chandrika kumaratunga said the ltte may step up their attacks in the capital to seek revenge for the ongoing military offensive which she described as the biggest ever drive to take the tiger town of jaffna . . </s> </p> </d>\""
      ]
     },
     "execution_count": 11,
     "metadata": {},
     "output_type": "execute_result"
    }
   ],
   "source": [
    "article.decode('utf-8')"
   ]
  },
  {
   "cell_type": "code",
   "execution_count": 26,
   "metadata": {},
   "outputs": [],
   "source": [
    "article_str = article.decode('unicode-escape')"
   ]
  },
  {
   "cell_type": "code",
   "execution_count": 27,
   "metadata": {},
   "outputs": [
    {
     "name": "stdout",
     "output_type": "stream",
     "text": [
      "b'<d> <p> <s> \\xc3\\xa4\\xc2\\xb8\\xc2\\xad\\xc3\\xa5\\xc2\\xb9\\xc2\\xbf\\xc3\\xa7\\xc2\\xbd\\xc2\\x91 \\xc3\\xa5\\xc2\\x94\\xc2\\x90\\xc3\\xa5\\xc2\\xb1\\xc2\\xb1 6 \\xc3\\xa6\\xc2\\x9c\\xc2\\x88 12 \\xc3\\xa6\\xc2\\x97\\xc2\\xa5 \\xc3\\xa6\\xc2\\xb6\\xc2\\x88\\xc3\\xa6\\xc2\\x81\\xc2\\xaf \\xc3\\xa6\\xc2\\x8a\\xc2\\x93\\xc3\\xa8\\xc2\\x8e\\xc2\\xb7 \\xc3\\xa3\\xc2\\x80\\xc2\\x82 \\xc3\\xa7\\xc2\\x8e\\xc2\\x8b\\xc3\\xa6\\xc2\\x8c\\xc2\\xba \\xc3\\xa4\\xc2\\xba\\xc2\\xa4\\xc3\\xa4\\xc2\\xbb\\xc2\\xa3 <s></s> \\xc3\\xa4\\xc2\\xbb\\xc2\\x96 \\xc3\\xa9\\xc2\\x80\\xc2\\x9a\\xc3\\xa8\\xc2\\xbf\\xc2\\x87 \\xc3\\xa4\\xc2\\xb8\\xc2\\x80 \\xc3\\xa5\\xc2\\xa2\\xc2\\x83\\xc3\\xa5\\xc2\\xa4\\xc2\\x96 \\xc3\\xa7\\xc2\\xbd\\xc2\\x91\\xc3\\xa7\\xc2\\xab\\xc2\\x99 \\xc3\\xa4\\xc2\\xb8\\xc2\\x8a \\xc3\\xa8\\xc2\\xae\\xc2\\xa4\\xc3\\xa8\\xc2\\xaf\\xc2\\x86 \\xc3\\xa4\\xc2\\xba\\xc2\\x86 \\xc3\\xa4\\xc2\\xb8\\xc2\\x8a\\xc3\\xa5\\xc2\\xae\\xc2\\xb6 \\xc3\\xa6\\xc2\\x9e\\xc2\\x97\\xc3\\xa5\\xc2\\xbf\\xc2\\x97\\xc3\\xa5\\xc2\\xaf\\xc2\\x8c <s></s> 2009 \\xc3\\xa5\\xc2\\xb9\\xc2\\xb4 11 \\xc3\\xa6\\xc2\\x9c\\xc2\\x88 \\xc3\\xa4\\xc2\\xbb\\xc2\\xa5\\xc3\\xa6\\xc2\\x9d\\xc2\\xa5 <s></s> \\xc3\\xa6\\xc2\\x9e\\xc2\\x97\\xc3\\xa5\\xc2\\xbf\\xc2\\x97\\xc3\\xa5\\xc2\\xaf\\xc2\\x8c \\xc3\\xa9\\xc2\\x95\\xc2\\xbf\\xc3\\xa6\\xc2\\x9c\\xc2\\x9f \\xc3\\xa5\\xc2\\xb1\\xc2\\x85\\xc3\\xa4\\xc2\\xbd\\xc2\\x8f \\xc3\\xa7\\xc2\\xbe\\xc2\\x8e\\xc3\\xa5\\xc2\\x9b\\xc2\\xbd <s></s> \\xc3\\xa4\\xc2\\xbb\\xc2\\x96 \\xc3\\xa9\\xc2\\x80\\xc2\\x9a\\xc3\\xa8\\xc2\\xbf\\xc2\\x87 \\xc3\\xa4\\xc2\\xba\\xc2\\x92\\xc3\\xa8\\xc2\\x81\\xc2\\x94\\xc3\\xa7\\xc2\\xbd\\xc2\\x91 \\xc3\\xa7\\xc2\\xbb\\xc2\\x84\\xc3\\xa5\\xc2\\xbb\\xc2\\xba \\xc3\\xa4\\xc2\\xba\\xc2\\x86 \\xc3\\xa4\\xc2\\xb8\\xc2\\x80\\xc3\\xa4\\xc2\\xb8\\xc2\\xaa \\xc3\\xa8\\xc2\\xb5\\xc2\\xb0\\xc3\\xa7\\xc2\\xa7\\xc2\\x81 \\xc3\\xa3\\xc2\\x80\\xc2\\x81 \\xc3\\xa8\\xc2\\xb4\\xc2\\xa9\\xc3\\xa5\\xc2\\x8d\\xc2\\x96 \\xc3\\xa3\\xc2\\x80\\xc2\\x81 \\xc3\\xa7\\xc2\\xa7\\xc2\\x81\\xc3\\xa8\\xc2\\x97\\xc2\\x8f\\xc3\\xa6\\xc2\\x9e\\xc2\\xaa\\xc3\\xa6\\xc2\\x94\\xc2\\xaf \\xc3\\xa5\\xc2\\xbc\\xc2\\xb9\\xc3\\xa8\\xc2\\x8d\\xc2\\xaf \\xc3\\xa7\\xc2\\x9a\\xc2\\x84 \\xc3\\xa7\\xc2\\xbe\\xc2\\xa4\\xc3\\xa4\\xc2\\xbd\\xc2\\x93 <s></s> \\xc3\\xa9\\xc2\\x80\\xc2\\x9a\\xc3\\xa8\\xc2\\xbf\\xc2\\x87 \\xc3\\xa7\\xc2\\xbd\\xc2\\x91\\xc3\\xa7\\xc2\\xbb\\xc2\\x9c \\xc3\\xa5\\xc2\\x9c\\xc2\\xa8 \\xc3\\xa5\\xc2\\x9b\\xc2\\xbd\\xc3\\xa5\\xc2\\x86\\xc2\\x85 \\xc3\\xa5\\xc2\\xaf\\xc2\\xbb\\xc3\\xa6\\xc2\\x89\\xc2\\xbe \\xc3\\xa6\\xc2\\x9e\\xc2\\xaa\\xc3\\xa6\\xc2\\x94\\xc2\\xaf\\xc3\\xa5\\xc2\\xbc\\xc2\\xb9\\xc3\\xa8\\xc2\\x8d\\xc2\\xaf \\xc3\\xa4\\xc2\\xb9\\xc2\\xb0\\xc3\\xa5\\xc2\\xae\\xc2\\xb6 <s></s> \\xc3\\xa5\\xc2\\xb9\\xc2\\xb6 \\xc3\\xa9\\xc2\\x80\\xc2\\x9a\\xc3\\xa8\\xc2\\xbf\\xc2\\x87 \\xc3\\xa7\\xc2\\xbe\\xc2\\x8e\\xc3\\xa5\\xc2\\x9b\\xc2\\xbd UPS \\xc3\\xa8\\xc2\\x81\\xc2\\x94\\xc3\\xa9\\xc2\\x82\\xc2\\xa6 \\xc3\\xa9\\xc2\\x80\\xc2\\x9f\\xc3\\xa9\\xc2\\x80\\xc2\\x92 \\xc3\\xa5\\xc2\\x85\\xc2\\xac\\xc3\\xa5\\xc2\\x8f\\xc2\\xb8 \\xc3\\xa5\\xc2\\xb0\\xc2\\x86 \\xc3\\xa6\\xc2\\x9e\\xc2\\xaa\\xc3\\xa6\\xc2\\x94\\xc2\\xaf\\xc3\\xa5\\xc2\\xbc\\xc2\\xb9\\xc3\\xa8\\xc2\\x8d\\xc2\\xaf \\xc3\\xa4\\xc2\\xbb\\xc2\\x8e \\xc3\\xa7\\xc2\\xba\\xc2\\xbd\\xc3\\xa7\\xc2\\xba\\xc2\\xa6 \\xc3\\xa5\\xc2\\xbf\\xc2\\xab \\xc3\\xa9\\xc2\\x80\\xc2\\x92\\xc3\\xa7\\xc2\\xbb\\xc2\\x99 \\xc3\\xa5\\xc2\\xa4\\xc2\\x9a\\xc3\\xa5\\xc2\\x90\\xc2\\x8d \\xc3\\xa7\\xc2\\xb1\\xc2\\xbb\\xc3\\xa4\\xc2\\xbc\\xc2\\xbc \\xc3\\xa7\\xc2\\x8e\\xc2\\x8b\\xc3\\xa6\\xc2\\x8c\\xc2\\xba \\xc3\\xa7\\xc2\\x9a\\xc2\\x84 \\xc3\\xa4\\xc2\\xb8\\xc2\\xad\\xc3\\xa9\\xc2\\x97\\xc2\\xb4\\xc3\\xa4\\xc2\\xba\\xc2\\xba <s></s> \\xc3\\xa5\\xc2\\x86\\xc2\\x8d \\xc3\\xa9\\xc2\\x80\\xc2\\x9a\\xc3\\xa8\\xc2\\xbf\\xc2\\x87 \\xc3\\xa4\\xc2\\xb8\\xc2\\xad\\xc3\\xa9\\xc2\\x97\\xc2\\xb4\\xc3\\xa4\\xc2\\xba\\xc2\\xba \\xc3\\xa5\\xc2\\x8f\\xc2\\x91\\xc3\\xa9\\xc2\\x80\\xc2\\x81\\xc3\\xa7\\xc2\\xbb\\xc2\\x99 \\xc3\\xa5\\xc2\\x9b\\xc2\\xbd\\xc3\\xa5\\xc2\\x86\\xc2\\x85 \\xc3\\xa4\\xc2\\xb9\\xc2\\xb0\\xc3\\xa5\\xc2\\xae\\xc2\\xb6 \\xc3\\xa3\\xc2\\x80\\xc2\\x82 \\xc3\\xae\\xc2\\x90\\xc2\\x8c \\xc3\\xa6\\xc2\\xad\\xc2\\xa4\\xc3\\xa6\\xc2\\xa1\\xc2\\x88 \\xc3\\xa4\\xc2\\xb8\\xc2\\xad <s></s> \\xc3\\xa7\\xc2\\x8a\\xc2\\xaf\\xc3\\xa7\\xc2\\xbd\\xc2\\xaa\\xc3\\xa5\\xc2\\x88\\xc2\\x86\\xc3\\xa5\\xc2\\xad\\xc2\\x90 \\xc3\\xa4\\xc2\\xbe\\xc2\\x9d\\xc3\\xa6\\xc2\\x89\\xc2\\x98 \\xc3\\xa8\\xc2\\x99\\xc2\\x9a\\xc3\\xa6\\xc2\\x8b\\xc2\\x9f \\xc3\\xa7\\xc2\\xbd\\xc2\\x91\\xc3\\xa7\\xc2\\xbb\\xc2\\x9c \\xc3\\xa8\\xc2\\xbf\\xc2\\x9b\\xc3\\xa8\\xc2\\xa1\\xc2\\x8c \\xc3\\xa7\\xc2\\x8a\\xc2\\xaf\\xc3\\xa7\\xc2\\xbd\\xc2\\xaa \\xc3\\xa4\\xc2\\xba\\xc2\\xa4\\xc3\\xa6\\xc2\\x98\\xc2\\x93 <s></s> \\xc3\\xa9\\xc2\\x9a\\xc2\\x90\\xc3\\xa8\\xc2\\x94\\xc2\\xbd\\xc3\\xa6\\xc2\\x80\\xc2\\xa7 \\xc3\\xa5\\xc2\\xbc\\xc2\\xba <s></s> \\xc3\\xa6\\xc2\\xb6\\xc2\\x89\\xc3\\xa6\\xc2\\xa1\\xc2\\x88\\xc3\\xa4\\xc2\\xba\\xc2\\xba\\xc3\\xa5\\xc2\\x91\\xc2\\x98 \\xc3\\xa4\\xc2\\xbd\\xc2\\xbf\\xc3\\xa7\\xc2\\x94\\xc2\\xa8 \\xc3\\xa7\\xc2\\x9a\\xc2\\x84 \\xc3\\xa8\\xc2\\xba\\xc2\\xab\\xc3\\xa4\\xc2\\xbb\\xc2\\xbd \\xc3\\xa3\\xc2\\x80\\xc2\\x81 \\xc3\\xa5\\xc2\\x9c\\xc2\\xb0\\xc3\\xa5\\xc2\\x9d\\xc2\\x80 \\xc3\\xa3\\xc2\\x80\\xc2\\x81 \\xc3\\xa8\\xc2\\x81\\xc2\\x94\\xc3\\xa7\\xc2\\xb3\\xc2\\xbb\\xc3\\xa6\\xc2\\x96\\xc2\\xb9\\xc3\\xa5\\xc2\\xbc\\xc2\\x8f \\xc3\\xa9\\xc2\\x83\\xc2\\xbd \\xc3\\xa6\\xc2\\x98\\xc2\\xaf \\xc3\\xa8\\xc2\\x99\\xc2\\x9a\\xc3\\xa6\\xc2\\x9e\\xc2\\x84 \\xc3\\xa7\\xc2\\x9a\\xc2\\x84 <s></s> \\xc3\\xa4\\xc2\\xbe\\xc2\\xa6\\xc3\\xa6\\xc2\\x9f\\xc2\\xa5 \\xc3\\xa9\\xc2\\x9a\\xc2\\xbe\\xc3\\xa5\\xc2\\xba\\xc2\\xa6\\xc3\\xa5\\xc2\\xbe\\xc2\\x88\\xc3\\xa5\\xc2\\xa4\\xc2\\xa7 \\xc3\\xa3\\xc2\\x80\\xc2\\x82 \\xc3\\xa5\\xc2\\x88\\xc2\\x98\\xc3\\xa5\\xc2\\xae\\xc2\\x89 \\xc3\\xa6\\xc2\\x88\\xc2\\x90 \\xc3\\xa8\\xc2\\xaf\\xc2\\xb4 <s></s> \\xc3\\xa6\\xc2\\xad\\xc2\\xa4\\xc3\\xa6\\xc2\\xa1\\xc2\\x88 \\xc3\\xa4\\xc2\\xbd\\xc2\\x93\\xc3\\xa7\\xc2\\x8e\\xc2\\xb0 \\xc3\\xa4\\xc2\\xba\\xc2\\x86 \\xc3\\xa6\\xc2\\x98\\xc2\\xaf \\xc3\\xa6\\xc2\\x96\\xc2\\xb0\\xc3\\xa5\\xc2\\x9e\\xc2\\x8b \\xc3\\xa7\\xc2\\x8a\\xc2\\xaf\\xc3\\xa7\\xc2\\xbd\\xc2\\xaa <s></s> \\xc3\\xa7\\xc2\\x89\\xc2\\xb9\\xc3\\xa5\\xc2\\x88\\xc2\\xab \\xc3\\xa6\\xc2\\x98\\xc2\\xaf \\xc3\\xa7\\xc2\\x8e\\xc2\\xb0\\xc3\\xa4\\xc2\\xbb\\xc2\\xa3 \\xc3\\xa7\\xc2\\x8a\\xc2\\xaf\\xc3\\xa7\\xc2\\xbd\\xc2\\xaa \\xc3\\xa7\\xc2\\x9a\\xc2\\x84 \\xc3\\xa6\\xc2\\x96\\xc2\\xb0 \\xc3\\xa7\\xc2\\x89\\xc2\\xb9\\xc3\\xa7\\xc2\\x82\\xc2\\xb9 \\xc3\\xa3\\xc2\\x80\\xc2\\x82 \\xc3\\xae\\xc2\\x90\\xc2\\x8c \\xc3\\xa5\\xc2\\x88\\xc2\\x98\\xc3\\xa5\\xc2\\xae\\xc2\\x89 \\xc3\\xa6\\xc2\\x88\\xc2\\x90 : \\xc3\\xa4\\xc2\\xbb\\xc2\\x96 \\xc3\\xa4\\xc2\\xb8\\xc2\\x8d\\xc3\\xa5\\xc2\\x8f\\xc2\\x97 \\xc3\\xa8\\xc2\\xb7\\xc2\\x9d\\xc3\\xa7\\xc2\\xa6\\xc2\\xbb \\xc3\\xa7\\xc2\\x9a\\xc2\\x84 \\xc3\\xa9\\xc2\\x99\\xc2\\x90\\xc3\\xa5\\xc2\\x88\\xc2\\xb6 \\xc3\\xa3\\xc2\\x80\\xc2\\x81 \\xc3\\xa7\\xc2\\xbb\\xc2\\x8f\\xc3\\xa5\\xc2\\xb8\\xc2\\xb8 \\xc3\\xa6\\xc2\\x98\\xc2\\xaf \\xc3\\xa8\\xc2\\xb7\\xc2\\xa8\\xc3\\xa5\\xc2\\x9b\\xc2\\xbd \\xc3\\xa8\\xc2\\xb7\\xc2\\xa8\\xc3\\xa5\\xc2\\xa2\\xc2\\x83 <s></s> \\xc3\\xa7\\xc2\\x94\\xc2\\x9a'\n"
     ]
    }
   ],
   "source": [
    "print(article)"
   ]
  },
  {
   "cell_type": "code",
   "execution_count": 6,
   "metadata": {},
   "outputs": [
    {
     "data": {
      "text/plain": [
       "\"<d> <p> <s> the sri lankan government on wednesday announced the closure of government schools with immediate effect as a military campaign against tamil separatists escalated in the north of the country . </s> <s> the cabinet wednesday decided to advance the december holidays by one month because of a threat from the liberation tigers of tamil eelam -lrb- ltte -rrb- against school children , a government official said . </s> <s> `` there are intelligence reports that the tigers may try to kill a lot of children to provoke a backlash against tamils in colombo . </s> <s> `` if that happens , troops will have to be withdrawn from the north to maintain law and order here , '' a police official said . </s> <s> he said education minister richard pathirana visited several government schools wednesday before the closure decision was taken . </s> <s> the government will make alternate arrangements to hold end of term examinations , officials said . </s> <s> earlier wednesday , president chandrika kumaratunga said the ltte may step up their attacks in the capital to seek revenge for the ongoing military offensive which she described as the biggest ever drive to take the tiger town of jaffna . . </s> </p> </d>\""
      ]
     },
     "execution_count": 6,
     "metadata": {},
     "output_type": "execute_result"
    }
   ],
   "source": [
    "article_str"
   ]
  },
  {
   "cell_type": "code",
   "execution_count": 3,
   "metadata": {},
   "outputs": [
    {
     "name": "stdout",
     "output_type": "stream",
     "text": [
      "[array([1, 2, 3], dtype=int32), array([3, 4, 5], dtype=int32)]\n"
     ]
    }
   ],
   "source": [
    "import tensorflow as tf\n",
    "with tf.Session() as sess:\n",
    "    print(sess.run(tf.unstack([[1,2,3],[3,4,5]])))"
   ]
  },
  {
   "cell_type": "code",
   "execution_count": 4,
   "metadata": {},
   "outputs": [
    {
     "name": "stdout",
     "output_type": "stream",
     "text": [
      "[[ 0  5 10]\n",
      " [ 1  6 11]\n",
      " [ 2  7 12]\n",
      " [ 3  8 13]\n",
      " [ 4  9 14]]\n",
      "[[[  0   1   2   3   4   5   6   7   8   9]\n",
      "  [ 50  51  52  53  54  55  56  57  58  59]\n",
      "  [100 101 102 103 104 105 106 107 108 109]]\n",
      "\n",
      " [[ 10  11  12  13  14  15  16  17  18  19]\n",
      "  [ 60  61  62  63  64  65  66  67  68  69]\n",
      "  [110 111 112 113 114 115 116 117 118 119]]\n",
      "\n",
      " [[ 20  21  22  23  24  25  26  27  28  29]\n",
      "  [ 70  71  72  73  74  75  76  77  78  79]\n",
      "  [120 121 122 123 124 125 126 127 128 129]]\n",
      "\n",
      " [[ 30  31  32  33  34  35  36  37  38  39]\n",
      "  [ 80  81  82  83  84  85  86  87  88  89]\n",
      "  [130 131 132 133 134 135 136 137 138 139]]\n",
      "\n",
      " [[ 40  41  42  43  44  45  46  47  48  49]\n",
      "  [ 90  91  92  93  94  95  96  97  98  99]\n",
      "  [140 141 142 143 144 145 146 147 148 149]]]\n",
      "[[150 160 170 180 190]\n",
      " [400 435 470 505 540]\n",
      " [650 710 770 830 890]]\n",
      "[[151 161 171 181 191]\n",
      " [401 436 471 506 541]\n",
      " [651 711 771 831 891]]\n",
      "[4 4 4]\n"
     ]
    },
    {
     "ename": "NameError",
     "evalue": "name 'np' is not defined",
     "output_type": "error",
     "traceback": [
      "\u001b[0;31m---------------------------------------------------------------------------\u001b[0m",
      "\u001b[0;31mNameError\u001b[0m                                 Traceback (most recent call last)",
      "\u001b[0;32m<ipython-input-4-6e79fec02f9a>\u001b[0m in \u001b[0;36m<module>\u001b[0;34m()\u001b[0m\n\u001b[1;32m     15\u001b[0m     \u001b[0mprint\u001b[0m\u001b[0;34m(\u001b[0m\u001b[0my\u001b[0m\u001b[0;34m.\u001b[0m\u001b[0meval\u001b[0m\u001b[0;34m(\u001b[0m\u001b[0;34m)\u001b[0m\u001b[0;34m)\u001b[0m\u001b[0;34m\u001b[0m\u001b[0m\n\u001b[1;32m     16\u001b[0m     \u001b[0mprint\u001b[0m\u001b[0;34m(\u001b[0m\u001b[0mtf\u001b[0m\u001b[0;34m.\u001b[0m\u001b[0margmax\u001b[0m\u001b[0;34m(\u001b[0m\u001b[0my\u001b[0m\u001b[0;34m,\u001b[0m\u001b[0;36m1\u001b[0m\u001b[0;34m)\u001b[0m\u001b[0;34m.\u001b[0m\u001b[0meval\u001b[0m\u001b[0;34m(\u001b[0m\u001b[0;34m)\u001b[0m\u001b[0;34m)\u001b[0m\u001b[0;34m\u001b[0m\u001b[0m\n\u001b[0;32m---> 17\u001b[0;31m     \u001b[0mconc\u001b[0m \u001b[0;34m=\u001b[0m \u001b[0mnp\u001b[0m\u001b[0;34m.\u001b[0m\u001b[0marray\u001b[0m\u001b[0;34m(\u001b[0m\u001b[0mnp\u001b[0m\u001b[0;34m.\u001b[0m\u001b[0marange\u001b[0m\u001b[0;34m(\u001b[0m\u001b[0;36m40\u001b[0m\u001b[0;34m)\u001b[0m\u001b[0;34m)\u001b[0m\u001b[0;34m.\u001b[0m\u001b[0mreshape\u001b[0m\u001b[0;34m(\u001b[0m\u001b[0;36m2\u001b[0m\u001b[0;34m,\u001b[0m\u001b[0;36m4\u001b[0m\u001b[0;34m,\u001b[0m\u001b[0;36m1\u001b[0m\u001b[0;34m,\u001b[0m\u001b[0;36m5\u001b[0m\u001b[0;34m)\u001b[0m\u001b[0;34m.\u001b[0m\u001b[0mtolist\u001b[0m\u001b[0;34m(\u001b[0m\u001b[0;34m)\u001b[0m\u001b[0;34m\u001b[0m\u001b[0m\n\u001b[0m\u001b[1;32m     18\u001b[0m     \u001b[0mprint\u001b[0m\u001b[0;34m(\u001b[0m\u001b[0mconc\u001b[0m\u001b[0;34m)\u001b[0m\u001b[0;34m\u001b[0m\u001b[0m\n\u001b[1;32m     19\u001b[0m     \u001b[0mconcated\u001b[0m \u001b[0;34m=\u001b[0m \u001b[0mtf\u001b[0m\u001b[0;34m.\u001b[0m\u001b[0mconcat\u001b[0m\u001b[0;34m(\u001b[0m\u001b[0maxis\u001b[0m\u001b[0;34m=\u001b[0m\u001b[0;36m1\u001b[0m\u001b[0;34m,\u001b[0m\u001b[0mvalues\u001b[0m\u001b[0;34m=\u001b[0m\u001b[0mconc\u001b[0m\u001b[0;34m)\u001b[0m\u001b[0;34m\u001b[0m\u001b[0m\n",
      "\u001b[0;31mNameError\u001b[0m: name 'np' is not defined"
     ]
    }
   ],
   "source": [
    "check = [[i*5+j for j in range(5)] for i in range(3)] #[3,5]\n",
    "embedding = [[i*10+j for j in range(10)] for i in range(15)]\n",
    "\n",
    "with tf.Session() as sess:\n",
    "    a = tf.unstack(tf.transpose(check))\n",
    "    print(tf.Print(a,[a]).eval()) #5*3\n",
    "    #embed = tf.convert_to_tensor(embedding)\n",
    "    b = [tf.nn.embedding_lookup(tf.convert_to_tensor(embedding),x) for x in a]\n",
    "    print(tf.Print(b,[b]).eval()) #5*3*10\n",
    "    x = tf.constant(check)\n",
    "    weights = tf.constant([[i*5+j for j in range(5)] for i in range(5)])\n",
    "    bias = tf.constant([1 for i in range(5)])\n",
    "    y = tf.matmul(x, weights)+bias\n",
    "    print(tf.matmul(x,weights).eval())\n",
    "    print(y.eval())\n",
    "    print(tf.argmax(y,1).eval())\n",
    "    conc = np.array(np.arange(40)).reshape(2,4,1,5).tolist()\n",
    "    print(conc)\n",
    "    concated = tf.concat(axis=1,values=conc)\n",
    "    print(concated.eval())"
   ]
  },
  {
   "cell_type": "code",
   "execution_count": 87,
   "metadata": {},
   "outputs": [],
   "source": [
    "import numpy as np"
   ]
  },
  {
   "cell_type": "code",
   "execution_count": 121,
   "metadata": {},
   "outputs": [],
   "source": [
    "conc = np.array(np.arange(40)).reshape(2,4,1,5)"
   ]
  },
  {
   "cell_type": "code",
   "execution_count": 122,
   "metadata": {},
   "outputs": [
    {
     "data": {
      "text/plain": [
       "(4, 2, 5)"
      ]
     },
     "execution_count": 122,
     "metadata": {},
     "output_type": "execute_result"
    }
   ],
   "source": [
    "np.concatenate(conc,axis=1).shape"
   ]
  },
  {
   "cell_type": "code",
   "execution_count": 118,
   "metadata": {},
   "outputs": [
    {
     "data": {
      "text/plain": [
       "array([[1],\n",
       "       [5]])"
      ]
     },
     "execution_count": 118,
     "metadata": {},
     "output_type": "execute_result"
    }
   ],
   "source": [
    "conc[:,1,:]"
   ]
  },
  {
   "cell_type": "code",
   "execution_count": 33,
   "metadata": {},
   "outputs": [
    {
     "data": {
      "text/plain": [
       "\"<d> <p> <s> the sri lankan government on wednesday announced the closure of government schools with immediate effect as a military campaign against tamil separatists escalated in the north of the country . </s> <s> the cabinet wednesday decided to advance the december holidays by one month because of a threat from the liberation tigers of tamil eelam -lrb- ltte -rrb- against school children , a government official said . </s> <s> `` there are intelligence reports that the tigers may try to kill a lot of children to provoke a backlash against tamils in colombo . </s> <s> `` if that happens , troops will have to be withdrawn from the north to maintain law and order here , '' a police official said . </s> <s> he said education minister richard pathirana visited several government schools wednesday before the closure decision was taken . </s> <s> the government will make alternate arrangements to hold end of term examinations , officials said . </s> <s> earlier wednesday , president chandrika kumaratunga said the ltte may step up their attacks in the capital to seek revenge for the ongoing military offensive which she described as the biggest ever drive to take the tiger town of jaffna . . </s> </p> </d>\""
      ]
     },
     "execution_count": 33,
     "metadata": {},
     "output_type": "execute_result"
    }
   ],
   "source": [
    "ex.features.feature['article'].bytes_list.value[0].decode('utf-8')"
   ]
  },
  {
   "cell_type": "code",
   "execution_count": 17,
   "metadata": {},
   "outputs": [],
   "source": [
    "a = \"<content></content>\"\n",
    "import re"
   ]
  },
  {
   "cell_type": "code",
   "execution_count": 18,
   "metadata": {},
   "outputs": [
    {
     "data": {
      "text/plain": [
       "['']"
      ]
     },
     "execution_count": 18,
     "metadata": {},
     "output_type": "execute_result"
    }
   ],
   "source": [
    "re.findall(\".*<content>(.*)</content>.*\", a)"
   ]
  },
  {
   "cell_type": "code",
   "execution_count": 5,
   "metadata": {},
   "outputs": [
    {
     "name": "stdout",
     "output_type": "stream",
     "text": [
      "True\n"
     ]
    }
   ],
   "source": [
    "a = ['']\n",
    "if a:\n",
    "    print(True)"
   ]
  },
  {
   "cell_type": "code",
   "execution_count": 19,
   "metadata": {},
   "outputs": [
    {
     "data": {
      "text/plain": [
       "37"
      ]
     },
     "execution_count": 19,
     "metadata": {},
     "output_type": "execute_result"
    }
   ],
   "source": [
    "len(\"article=<d> <p> <s> %s </s> </p> </d>\")"
   ]
  },
  {
   "cell_type": "code",
   "execution_count": 1,
   "metadata": {},
   "outputs": [],
   "source": [
    "alist = [1,2,3,4]\n",
    "blist = [2,3,4,5]"
   ]
  },
  {
   "cell_type": "code",
   "execution_count": 2,
   "metadata": {},
   "outputs": [
    {
     "data": {
      "text/plain": [
       "[1, 2, 3, 4, 2, 3, 4, 5]"
      ]
     },
     "execution_count": 2,
     "metadata": {},
     "output_type": "execute_result"
    }
   ],
   "source": [
    "alist+blist"
   ]
  },
  {
   "cell_type": "code",
   "execution_count": null,
   "metadata": {},
   "outputs": [],
   "source": []
  }
 ],
 "metadata": {
  "kernelspec": {
   "display_name": "Python 3",
   "language": "python",
   "name": "python3"
  },
  "language_info": {
   "codemirror_mode": {
    "name": "ipython",
    "version": 3
   },
   "file_extension": ".py",
   "mimetype": "text/x-python",
   "name": "python",
   "nbconvert_exporter": "python",
   "pygments_lexer": "ipython3",
   "version": "3.6.4"
  }
 },
 "nbformat": 4,
 "nbformat_minor": 2
}
